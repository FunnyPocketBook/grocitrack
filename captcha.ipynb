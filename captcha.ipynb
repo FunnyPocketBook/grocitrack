{
 "cells": [
  {
   "cell_type": "code",
   "execution_count": 20,
   "metadata": {},
   "outputs": [],
   "source": [
    "from bs4 import BeautifulSoup\n",
    "import requests\n",
    "import yaml\n",
    "import time"
   ]
  },
  {
   "cell_type": "code",
   "execution_count": 19,
   "metadata": {},
   "outputs": [],
   "source": [
    "LOGIN_URL = \"https://login.ah.nl/secure/oauth/authorize?client_id=appie&redirect_uri=appie://login-exit&response_type=code\"\n",
    "user_agent = \"Mozilla/5.0 (Windows NT 10.0; Win64; x64) AppleWebKit/537.36 (KHTML, like Gecko) Chrome/108.0.0.0 Safari/537.36 Edg/108.0.0.0\"\n",
    "CAPTCHA_SOLVER_URL = \"http://2captcha.com/in.php?key={api_key}&method=hcaptcha&sitekey={data_sitekey}&pageurl={url}&invisible=1&userAgent={user_agent}&json=1\"\n",
    "CAPTCHA_SOLVER_RESULT_URL = \"http://2captcha.com/res.php?key={api_key}&action=get&id={id}&json=1\"\n"
   ]
  },
  {
   "cell_type": "code",
   "execution_count": 12,
   "metadata": {},
   "outputs": [],
   "source": [
    "with open(\"config.yml\", \"r\") as f:\n",
    "    config = yaml.safe_load(f)"
   ]
  },
  {
   "cell_type": "code",
   "execution_count": 21,
   "metadata": {},
   "outputs": [],
   "source": [
    "\n",
    "response = requests.get(LOGIN_URL, headers={\"User-Agent\": user_agent})\n",
    "html_doc = response.text\n",
    "soup = BeautifulSoup(html_doc, \"html.parser\")\n"
   ]
  },
  {
   "cell_type": "code",
   "execution_count": 22,
   "metadata": {},
   "outputs": [
    {
     "name": "stdout",
     "output_type": "stream",
     "text": [
      "71973041135\n",
      "20 19 18 17 16 15 14 13 12 11 10 9 8 7 6 5 4 3 2 1 \n",
      "CAPCHA_NOT_READY\n"
     ]
    }
   ],
   "source": [
    "# get csrf token\n",
    "csrf_token = soup.find(\"input\", {\"name\": \"_csrf\"})[\"value\"]\n",
    "\n",
    "# get hcaptchaDiv and the data-sitekey\n",
    "hcaptchaDiv = soup.find(\"div\", {\"id\": \"hcaptchaDiv\"})\n",
    "data_sitekey = hcaptchaDiv[\"data-sitekey\"]\n",
    "captcha_solver_url = CAPTCHA_SOLVER_URL.format(\n",
    "    api_key=config[\"2captcha\"][\"api_key\"],\n",
    "    data_sitekey=data_sitekey,\n",
    "    url=response.url,\n",
    "    user_agent=user_agent,\n",
    ")\n",
    "# send get request to 2captcha\n",
    "reponse_solver = requests.get(captcha_solver_url)\n",
    "captcha_id = reponse_solver.json()[\"request\"]\n",
    "print(captcha_id)\n",
    "\n",
    "# wait 20 seconds with countdown but on the same line\n",
    "for i in range(20, 0, -1):\n",
    "    print(i, end=\" \")\n",
    "    time.sleep(1)\n",
    "print()\n",
    "\n",
    "# get the result\n",
    "captcha_solver_result_url = CAPTCHA_SOLVER_RESULT_URL.format(\n",
    "    api_key=config[\"2captcha\"][\"api_key\"], id=captcha_id\n",
    ")\n",
    "response_solver_result = requests.get(captcha_solver_result_url)\n",
    "captcha_result = response_solver_result.json()[\"request\"]\n",
    "print(captcha_result)\n",
    "\n",
    "\n"
   ]
  }
 ],
 "metadata": {
  "kernelspec": {
   "display_name": "Python 3.10.0 ('receipt-scanner')",
   "language": "python",
   "name": "python3"
  },
  "language_info": {
   "codemirror_mode": {
    "name": "ipython",
    "version": 3
   },
   "file_extension": ".py",
   "mimetype": "text/x-python",
   "name": "python",
   "nbconvert_exporter": "python",
   "pygments_lexer": "ipython3",
   "version": "3.10.0"
  },
  "orig_nbformat": 4,
  "vscode": {
   "interpreter": {
    "hash": "41adadab42d4a39b259d5951c5a59f4161a75045fccd2cb0badd3505332fc8d2"
   }
  }
 },
 "nbformat": 4,
 "nbformat_minor": 2
}
